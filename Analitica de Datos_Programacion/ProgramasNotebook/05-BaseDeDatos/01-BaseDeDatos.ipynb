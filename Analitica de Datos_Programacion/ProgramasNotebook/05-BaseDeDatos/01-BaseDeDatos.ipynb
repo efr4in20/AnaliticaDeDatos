{
 "cells": [
  {
   "cell_type": "code",
   "execution_count": 1,
   "metadata": {},
   "outputs": [],
   "source": [
    "import pandas as pd"
   ]
  },
  {
   "cell_type": "markdown",
   "metadata": {},
   "source": [
    "Ahora, en nuestro programa de Python, tenemos que importar la librería:\n"
   ]
  },
  {
   "cell_type": "code",
   "execution_count": 2,
   "metadata": {},
   "outputs": [],
   "source": [
    "import mysql.connector"
   ]
  },
  {
   "cell_type": "markdown",
   "metadata": {},
   "source": [
    "Ahora, para conectarnos a la base de datos, necesitas cierta información acerca del servidor que está corriendo la base de datos y el usuario que tiene acceso a ella. Más específicamente, mysql.connector te pide el host y port (el dominio y puerto donde está corriendo tu servidor), el user (el usuario o uno de los usuarios que tiene permiso de acceso a la base de datos), la password (la contraseña de dicho usuario) y la database (la base de datos almacenada en MySQL a la que queremos acceder). En el caso de mi servidor local, ésta es la información adecuada:"
   ]
  },
  {
   "cell_type": "code",
   "execution_count": 3,
   "metadata": {},
   "outputs": [
    {
     "ename": "SyntaxError",
     "evalue": "invalid syntax. Perhaps you forgot a comma? (1416423427.py, line 2)",
     "output_type": "error",
     "traceback": [
      "\u001b[1;36m  Cell \u001b[1;32mIn[3], line 2\u001b[1;36m\u001b[0m\n\u001b[1;33m    host = 'localhost'\u001b[0m\n\u001b[1;37m           ^\u001b[0m\n\u001b[1;31mSyntaxError\u001b[0m\u001b[1;31m:\u001b[0m invalid syntax. Perhaps you forgot a comma?\n"
     ]
    }
   ],
   "source": [
    "conne = mysql.connector.connect(\n",
    "    host = 'localhost'\n",
    "    port = '3309'\n",
    "    user = 'root'\n",
    "    password = 'P@ssw0rd'\n",
    "    database = 'movielens'\n",
    ")"
   ]
  },
  {
   "cell_type": "markdown",
   "metadata": {},
   "source": [
    "Ya que la conexión está realizada, tengo que crear un objeto cursor, que es el encargado de realizar las operaciones de consulta y modificación de la base de datos:\n"
   ]
  },
  {
   "cell_type": "code",
   "execution_count": 4,
   "metadata": {},
   "outputs": [
    {
     "ename": "NameError",
     "evalue": "name 'conne' is not defined",
     "output_type": "error",
     "traceback": [
      "\u001b[1;31m---------------------------------------------------------------------------\u001b[0m",
      "\u001b[1;31mNameError\u001b[0m                                 Traceback (most recent call last)",
      "Cell \u001b[1;32mIn[4], line 1\u001b[0m\n\u001b[1;32m----> 1\u001b[0m curso \u001b[38;5;241m=\u001b[39m \u001b[43mconne\u001b[49m\u001b[38;5;241m.\u001b[39mcursor()\n",
      "\u001b[1;31mNameError\u001b[0m: name 'conne' is not defined"
     ]
    }
   ],
   "source": [
    "curso = conne.cursor()"
   ]
  },
  {
   "cell_type": "markdown",
   "metadata": {},
   "source": [
    "Ahora podemos simplemente utilizar este objeto cursor para correr código SQL y realizar operaciones con nuestra base de datos. Lenguaje SQL no es el tema de este módulo, pero basta con conocer un solo comando para poder solicitar la información contenida en una de las tablas de nuestra base de datos:"
   ]
  },
  {
   "cell_type": "code",
   "execution_count": null,
   "metadata": {},
   "outputs": [],
   "source": [
    "curso.execute('show tables')"
   ]
  },
  {
   "cell_type": "code",
   "execution_count": null,
   "metadata": {},
   "outputs": [],
   "source": [
    "curso.fetchall()"
   ]
  },
  {
   "cell_type": "markdown",
   "metadata": {},
   "source": [
    "El comando SELECT * FROM nombre_de_la_tabla sirve para pedir todas (*) las entradas en la tabla nombre_de_la_tabla. Usualmente el lenguaje SQL se utiliza también para filtrar y estructurar nuestros datos, pero nosotros vamos a realizar esos procesos con pandas. Una vez que el comando SQL ha sido ejecutado, podemos usar el método fetchall para obtener nuestros datos:"
   ]
  },
  {
   "cell_type": "code",
   "execution_count": null,
   "metadata": {},
   "outputs": [],
   "source": [
    "curso.execute('Select* From movies')"
   ]
  },
  {
   "cell_type": "code",
   "execution_count": null,
   "metadata": {},
   "outputs": [],
   "source": [
    "result = curso.fetchall()"
   ]
  },
  {
   "cell_type": "markdown",
   "metadata": {},
   "source": [
    "Después, hay que cerrar nuestro cursor ya que hayamos terminado:\n"
   ]
  },
  {
   "cell_type": "code",
   "execution_count": null,
   "metadata": {},
   "outputs": [],
   "source": [
    "curso.close()"
   ]
  },
  {
   "cell_type": "markdown",
   "metadata": {},
   "source": [
    "Ahora, ¿qué es lo que hay almacenado en nuestra variable result? Vamos a ver el tipo de dato:\n"
   ]
  },
  {
   "cell_type": "code",
   "execution_count": null,
   "metadata": {},
   "outputs": [],
   "source": [
    "type(result)"
   ]
  },
  {
   "cell_type": "markdown",
   "metadata": {},
   "source": [
    "¡Es una lista!\n",
    "\n",
    "Veamos el primer elemento de nuestra lista:"
   ]
  },
  {
   "cell_type": "code",
   "execution_count": null,
   "metadata": {},
   "outputs": [],
   "source": [
    "result[0]"
   ]
  },
  {
   "cell_type": "code",
   "execution_count": null,
   "metadata": {},
   "outputs": [],
   "source": [
    "result"
   ]
  }
 ],
 "metadata": {
  "kernelspec": {
   "display_name": "Python 3",
   "language": "python",
   "name": "python3"
  },
  "language_info": {
   "codemirror_mode": {
    "name": "ipython",
    "version": 3
   },
   "file_extension": ".py",
   "mimetype": "text/x-python",
   "name": "python",
   "nbconvert_exporter": "python",
   "pygments_lexer": "ipython3",
   "version": "3.12.3"
  }
 },
 "nbformat": 4,
 "nbformat_minor": 2
}
