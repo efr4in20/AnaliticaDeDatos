{
  "cells": [
    {
      "cell_type": "code",
      "execution_count": null,
      "metadata": {
        "id": "eDKvRNPkz7rw"
      },
      "outputs": [],
      "source": [
        "import pandas as pd"
      ]
    },
    {
      "cell_type": "code",
      "execution_count": 6,
      "metadata": {
        "id": "FgNp5Qbp1kur"
      },
      "outputs": [],
      "source": [
        "df= pd.read_csv('./Datasets/melbourne_housing-clean.csv' , index_col=0)"
      ]
    },
    {
      "cell_type": "code",
      "execution_count": 7,
      "metadata": {
        "colab": {
          "base_uri": "https://localhost:8080/",
          "height": 348
        },
        "id": "AQmvaM6G2vdR",
        "outputId": "8e617ef9-886f-4181-a2b5-f1a2d4b76d73"
      },
      "outputs": [
        {
          "data": {
            "application/vnd.google.colaboratory.intrinsic+json": {
              "summary": "{\n  \"name\": \"df\",\n  \"rows\": 6973,\n  \"fields\": [\n    {\n      \"column\": \"suburb\",\n      \"properties\": {\n        \"dtype\": \"category\",\n        \"num_unique_values\": 119,\n        \"samples\": [\n          \"Hughesdale\",\n          \"South Yarra\",\n          \"Altona\"\n        ],\n        \"semantic_type\": \"\",\n        \"description\": \"\"\n      }\n    },\n    {\n      \"column\": \"address\",\n      \"properties\": {\n        \"dtype\": \"string\",\n        \"num_unique_values\": 6903,\n        \"samples\": [\n          \"7 Clifton St\",\n          \"209/5 Stawell St\",\n          \"6/14 Athelstane Gr\"\n        ],\n        \"semantic_type\": \"\",\n        \"description\": \"\"\n      }\n    },\n    {\n      \"column\": \"rooms\",\n      \"properties\": {\n        \"dtype\": \"number\",\n        \"std\": 0,\n        \"min\": 1,\n        \"max\": 8,\n        \"num_unique_values\": 8,\n        \"samples\": [\n          3,\n          5,\n          2\n        ],\n        \"semantic_type\": \"\",\n        \"description\": \"\"\n      }\n    },\n    {\n      \"column\": \"type\",\n      \"properties\": {\n        \"dtype\": \"category\",\n        \"num_unique_values\": 3,\n        \"samples\": [\n          \"h\",\n          \"u\",\n          \"t\"\n        ],\n        \"semantic_type\": \"\",\n        \"description\": \"\"\n      }\n    },\n    {\n      \"column\": \"price\",\n      \"properties\": {\n        \"dtype\": \"number\",\n        \"std\": 657360.1157462498,\n        \"min\": 85000.0,\n        \"max\": 6500000.0,\n        \"num_unique_values\": 1645,\n        \"samples\": [\n          1127000.0,\n          1478000.0,\n          558000.0\n        ],\n        \"semantic_type\": \"\",\n        \"description\": \"\"\n      }\n    },\n    {\n      \"column\": \"method\",\n      \"properties\": {\n        \"dtype\": \"category\",\n        \"num_unique_values\": 5,\n        \"samples\": [\n          \"SP\",\n          \"SA\",\n          \"PI\"\n        ],\n        \"semantic_type\": \"\",\n        \"description\": \"\"\n      }\n    },\n    {\n      \"column\": \"seller_g\",\n      \"properties\": {\n        \"dtype\": \"category\",\n        \"num_unique_values\": 180,\n        \"samples\": [\n          \"Thomson\",\n          \"Ray\",\n          \"W.B.\"\n        ],\n        \"semantic_type\": \"\",\n        \"description\": \"\"\n      }\n    },\n    {\n      \"column\": \"date\",\n      \"properties\": {\n        \"dtype\": \"category\",\n        \"num_unique_values\": 36,\n        \"samples\": [\n          \"28/01/2016\",\n          \"18/06/2016\",\n          \"10/12/2016\"\n        ],\n        \"semantic_type\": \"\",\n        \"description\": \"\"\n      }\n    },\n    {\n      \"column\": \"distance\",\n      \"properties\": {\n        \"dtype\": \"number\",\n        \"std\": 3.60746227965454,\n        \"min\": 1.2,\n        \"max\": 15.0,\n        \"num_unique_values\": 84,\n        \"samples\": [\n          6.5,\n          2.5,\n          8.4\n        ],\n        \"semantic_type\": \"\",\n        \"description\": \"\"\n      }\n    },\n    {\n      \"column\": \"postcode\",\n      \"properties\": {\n        \"dtype\": \"number\",\n        \"std\": 59.257592590970106,\n        \"min\": 3000.0,\n        \"max\": 3207.0,\n        \"num_unique_values\": 91,\n        \"samples\": [\n          3031.0,\n          3125.0,\n          3012.0\n        ],\n        \"semantic_type\": \"\",\n        \"description\": \"\"\n      }\n    },\n    {\n      \"column\": \"bedroom_2\",\n      \"properties\": {\n        \"dtype\": \"number\",\n        \"std\": 0.9455424264727305,\n        \"min\": 0.0,\n        \"max\": 9.0,\n        \"num_unique_values\": 10,\n        \"samples\": [\n          9.0,\n          3.0,\n          5.0\n        ],\n        \"semantic_type\": \"\",\n        \"description\": \"\"\n      }\n    },\n    {\n      \"column\": \"bathroom\",\n      \"properties\": {\n        \"dtype\": \"number\",\n        \"std\": 0.6990382099356969,\n        \"min\": 0.0,\n        \"max\": 8.0,\n        \"num_unique_values\": 9,\n        \"samples\": [\n          6.0,\n          2.0,\n          7.0\n        ],\n        \"semantic_type\": \"\",\n        \"description\": \"\"\n      }\n    },\n    {\n      \"column\": \"car\",\n      \"properties\": {\n        \"dtype\": \"number\",\n        \"std\": 0.9215822658051505,\n        \"min\": 0.0,\n        \"max\": 8.0,\n        \"num_unique_values\": 9,\n        \"samples\": [\n          8.0,\n          0.0,\n          4.0\n        ],\n        \"semantic_type\": \"\",\n        \"description\": \"\"\n      }\n    },\n    {\n      \"column\": \"land_size\",\n      \"properties\": {\n        \"dtype\": \"number\",\n        \"std\": 1321.6435690843439,\n        \"min\": 0.0,\n        \"max\": 75100.0,\n        \"num_unique_values\": 1137,\n        \"samples\": [\n          846.0,\n          191.0,\n          673.0\n        ],\n        \"semantic_type\": \"\",\n        \"description\": \"\"\n      }\n    },\n    {\n      \"column\": \"council_area\",\n      \"properties\": {\n        \"dtype\": \"category\",\n        \"num_unique_values\": 19,\n        \"samples\": [\n          \"Yarra\",\n          \"Stonnington\",\n          \"Bayside\"\n        ],\n        \"semantic_type\": \"\",\n        \"description\": \"\"\n      }\n    },\n    {\n      \"column\": \"latitude\",\n      \"properties\": {\n        \"dtype\": \"number\",\n        \"std\": 0.06112570861483796,\n        \"min\": -37.9462,\n        \"max\": -37.6783,\n        \"num_unique_values\": 2213,\n        \"samples\": [\n          -37.7646,\n          -37.881,\n          -37.6964\n        ],\n        \"semantic_type\": \"\",\n        \"description\": \"\"\n      }\n    },\n    {\n      \"column\": \"longitude\",\n      \"properties\": {\n        \"dtype\": \"number\",\n        \"std\": 0.07346497289714786,\n        \"min\": 144.7889,\n        \"max\": 145.1438,\n        \"num_unique_values\": 2598,\n        \"samples\": [\n          145.0222,\n          144.8666,\n          144.9334\n        ],\n        \"semantic_type\": \"\",\n        \"description\": \"\"\n      }\n    },\n    {\n      \"column\": \"region_name\",\n      \"properties\": {\n        \"dtype\": \"category\",\n        \"num_unique_values\": 5,\n        \"samples\": [\n          \"Western Metropolitan\",\n          \"South-Eastern Metropolitan\",\n          \"Southern Metropolitan\"\n        ],\n        \"semantic_type\": \"\",\n        \"description\": \"\"\n      }\n    },\n    {\n      \"column\": \"property_count\",\n      \"properties\": {\n        \"dtype\": \"number\",\n        \"std\": 4379.724636476489,\n        \"min\": 394.0,\n        \"max\": 21650.0,\n        \"num_unique_values\": 118,\n        \"samples\": [\n          3145.0,\n          14887.0,\n          5301.0\n        ],\n        \"semantic_type\": \"\",\n        \"description\": \"\"\n      }\n    }\n  ]\n}",
              "type": "dataframe",
              "variable_name": "df"
            },
            "text/html": [
              "\n",
              "  <div id=\"df-6297f766-2d4a-483c-92c5-2170dd33c2b3\" class=\"colab-df-container\">\n",
              "    <div>\n",
              "<style scoped>\n",
              "    .dataframe tbody tr th:only-of-type {\n",
              "        vertical-align: middle;\n",
              "    }\n",
              "\n",
              "    .dataframe tbody tr th {\n",
              "        vertical-align: top;\n",
              "    }\n",
              "\n",
              "    .dataframe thead th {\n",
              "        text-align: right;\n",
              "    }\n",
              "</style>\n",
              "<table border=\"1\" class=\"dataframe\">\n",
              "  <thead>\n",
              "    <tr style=\"text-align: right;\">\n",
              "      <th></th>\n",
              "      <th>suburb</th>\n",
              "      <th>address</th>\n",
              "      <th>rooms</th>\n",
              "      <th>type</th>\n",
              "      <th>price</th>\n",
              "      <th>method</th>\n",
              "      <th>seller_g</th>\n",
              "      <th>date</th>\n",
              "      <th>distance</th>\n",
              "      <th>postcode</th>\n",
              "      <th>bedroom_2</th>\n",
              "      <th>bathroom</th>\n",
              "      <th>car</th>\n",
              "      <th>land_size</th>\n",
              "      <th>council_area</th>\n",
              "      <th>latitude</th>\n",
              "      <th>longitude</th>\n",
              "      <th>region_name</th>\n",
              "      <th>property_count</th>\n",
              "    </tr>\n",
              "  </thead>\n",
              "  <tbody>\n",
              "    <tr>\n",
              "      <th>0</th>\n",
              "      <td>Abbotsford</td>\n",
              "      <td>85 Turner St</td>\n",
              "      <td>2</td>\n",
              "      <td>h</td>\n",
              "      <td>1480000.0</td>\n",
              "      <td>S</td>\n",
              "      <td>Biggin</td>\n",
              "      <td>3/12/2016</td>\n",
              "      <td>2.5</td>\n",
              "      <td>3067.0</td>\n",
              "      <td>2.0</td>\n",
              "      <td>1.0</td>\n",
              "      <td>1.0</td>\n",
              "      <td>202.0</td>\n",
              "      <td>Yarra</td>\n",
              "      <td>-37.7996</td>\n",
              "      <td>144.9984</td>\n",
              "      <td>Northern Metropolitan</td>\n",
              "      <td>4019.0</td>\n",
              "    </tr>\n",
              "    <tr>\n",
              "      <th>1</th>\n",
              "      <td>Abbotsford</td>\n",
              "      <td>25 Bloomburg St</td>\n",
              "      <td>2</td>\n",
              "      <td>h</td>\n",
              "      <td>1035000.0</td>\n",
              "      <td>S</td>\n",
              "      <td>Biggin</td>\n",
              "      <td>4/02/2016</td>\n",
              "      <td>2.5</td>\n",
              "      <td>3067.0</td>\n",
              "      <td>2.0</td>\n",
              "      <td>1.0</td>\n",
              "      <td>0.0</td>\n",
              "      <td>156.0</td>\n",
              "      <td>Yarra</td>\n",
              "      <td>-37.8079</td>\n",
              "      <td>144.9934</td>\n",
              "      <td>Northern Metropolitan</td>\n",
              "      <td>4019.0</td>\n",
              "    </tr>\n",
              "    <tr>\n",
              "      <th>2</th>\n",
              "      <td>Abbotsford</td>\n",
              "      <td>5 Charles St</td>\n",
              "      <td>3</td>\n",
              "      <td>h</td>\n",
              "      <td>1465000.0</td>\n",
              "      <td>SP</td>\n",
              "      <td>Biggin</td>\n",
              "      <td>4/03/2017</td>\n",
              "      <td>2.5</td>\n",
              "      <td>3067.0</td>\n",
              "      <td>3.0</td>\n",
              "      <td>2.0</td>\n",
              "      <td>0.0</td>\n",
              "      <td>134.0</td>\n",
              "      <td>Yarra</td>\n",
              "      <td>-37.8093</td>\n",
              "      <td>144.9944</td>\n",
              "      <td>Northern Metropolitan</td>\n",
              "      <td>4019.0</td>\n",
              "    </tr>\n",
              "    <tr>\n",
              "      <th>3</th>\n",
              "      <td>Abbotsford</td>\n",
              "      <td>40 Federation La</td>\n",
              "      <td>3</td>\n",
              "      <td>h</td>\n",
              "      <td>850000.0</td>\n",
              "      <td>PI</td>\n",
              "      <td>Biggin</td>\n",
              "      <td>4/03/2017</td>\n",
              "      <td>2.5</td>\n",
              "      <td>3067.0</td>\n",
              "      <td>3.0</td>\n",
              "      <td>2.0</td>\n",
              "      <td>1.0</td>\n",
              "      <td>94.0</td>\n",
              "      <td>Yarra</td>\n",
              "      <td>-37.7969</td>\n",
              "      <td>144.9969</td>\n",
              "      <td>Northern Metropolitan</td>\n",
              "      <td>4019.0</td>\n",
              "    </tr>\n",
              "    <tr>\n",
              "      <th>4</th>\n",
              "      <td>Abbotsford</td>\n",
              "      <td>55a Park St</td>\n",
              "      <td>4</td>\n",
              "      <td>h</td>\n",
              "      <td>1600000.0</td>\n",
              "      <td>VB</td>\n",
              "      <td>Nelson</td>\n",
              "      <td>4/06/2016</td>\n",
              "      <td>2.5</td>\n",
              "      <td>3067.0</td>\n",
              "      <td>3.0</td>\n",
              "      <td>1.0</td>\n",
              "      <td>2.0</td>\n",
              "      <td>120.0</td>\n",
              "      <td>Yarra</td>\n",
              "      <td>-37.8072</td>\n",
              "      <td>144.9941</td>\n",
              "      <td>Northern Metropolitan</td>\n",
              "      <td>4019.0</td>\n",
              "    </tr>\n",
              "  </tbody>\n",
              "</table>\n",
              "</div>\n",
              "    <div class=\"colab-df-buttons\">\n",
              "\n",
              "  <div class=\"colab-df-container\">\n",
              "    <button class=\"colab-df-convert\" onclick=\"convertToInteractive('df-6297f766-2d4a-483c-92c5-2170dd33c2b3')\"\n",
              "            title=\"Convert this dataframe to an interactive table.\"\n",
              "            style=\"display:none;\">\n",
              "\n",
              "  <svg xmlns=\"http://www.w3.org/2000/svg\" height=\"24px\" viewBox=\"0 -960 960 960\">\n",
              "    <path d=\"M120-120v-720h720v720H120Zm60-500h600v-160H180v160Zm220 220h160v-160H400v160Zm0 220h160v-160H400v160ZM180-400h160v-160H180v160Zm440 0h160v-160H620v160ZM180-180h160v-160H180v160Zm440 0h160v-160H620v160Z\"/>\n",
              "  </svg>\n",
              "    </button>\n",
              "\n",
              "  <style>\n",
              "    .colab-df-container {\n",
              "      display:flex;\n",
              "      gap: 12px;\n",
              "    }\n",
              "\n",
              "    .colab-df-convert {\n",
              "      background-color: #E8F0FE;\n",
              "      border: none;\n",
              "      border-radius: 50%;\n",
              "      cursor: pointer;\n",
              "      display: none;\n",
              "      fill: #1967D2;\n",
              "      height: 32px;\n",
              "      padding: 0 0 0 0;\n",
              "      width: 32px;\n",
              "    }\n",
              "\n",
              "    .colab-df-convert:hover {\n",
              "      background-color: #E2EBFA;\n",
              "      box-shadow: 0px 1px 2px rgba(60, 64, 67, 0.3), 0px 1px 3px 1px rgba(60, 64, 67, 0.15);\n",
              "      fill: #174EA6;\n",
              "    }\n",
              "\n",
              "    .colab-df-buttons div {\n",
              "      margin-bottom: 4px;\n",
              "    }\n",
              "\n",
              "    [theme=dark] .colab-df-convert {\n",
              "      background-color: #3B4455;\n",
              "      fill: #D2E3FC;\n",
              "    }\n",
              "\n",
              "    [theme=dark] .colab-df-convert:hover {\n",
              "      background-color: #434B5C;\n",
              "      box-shadow: 0px 1px 3px 1px rgba(0, 0, 0, 0.15);\n",
              "      filter: drop-shadow(0px 1px 2px rgba(0, 0, 0, 0.3));\n",
              "      fill: #FFFFFF;\n",
              "    }\n",
              "  </style>\n",
              "\n",
              "    <script>\n",
              "      const buttonEl =\n",
              "        document.querySelector('#df-6297f766-2d4a-483c-92c5-2170dd33c2b3 button.colab-df-convert');\n",
              "      buttonEl.style.display =\n",
              "        google.colab.kernel.accessAllowed ? 'block' : 'none';\n",
              "\n",
              "      async function convertToInteractive(key) {\n",
              "        const element = document.querySelector('#df-6297f766-2d4a-483c-92c5-2170dd33c2b3');\n",
              "        const dataTable =\n",
              "          await google.colab.kernel.invokeFunction('convertToInteractive',\n",
              "                                                    [key], {});\n",
              "        if (!dataTable) return;\n",
              "\n",
              "        const docLinkHtml = 'Like what you see? Visit the ' +\n",
              "          '<a target=\"_blank\" href=https://colab.research.google.com/notebooks/data_table.ipynb>data table notebook</a>'\n",
              "          + ' to learn more about interactive tables.';\n",
              "        element.innerHTML = '';\n",
              "        dataTable['output_type'] = 'display_data';\n",
              "        await google.colab.output.renderOutput(dataTable, element);\n",
              "        const docLink = document.createElement('div');\n",
              "        docLink.innerHTML = docLinkHtml;\n",
              "        element.appendChild(docLink);\n",
              "      }\n",
              "    </script>\n",
              "  </div>\n",
              "\n",
              "\n",
              "<div id=\"df-0eec06ea-2761-4446-8dbc-5c00ea4ade3e\">\n",
              "  <button class=\"colab-df-quickchart\" onclick=\"quickchart('df-0eec06ea-2761-4446-8dbc-5c00ea4ade3e')\"\n",
              "            title=\"Suggest charts\"\n",
              "            style=\"display:none;\">\n",
              "\n",
              "<svg xmlns=\"http://www.w3.org/2000/svg\" height=\"24px\"viewBox=\"0 0 24 24\"\n",
              "     width=\"24px\">\n",
              "    <g>\n",
              "        <path d=\"M19 3H5c-1.1 0-2 .9-2 2v14c0 1.1.9 2 2 2h14c1.1 0 2-.9 2-2V5c0-1.1-.9-2-2-2zM9 17H7v-7h2v7zm4 0h-2V7h2v10zm4 0h-2v-4h2v4z\"/>\n",
              "    </g>\n",
              "</svg>\n",
              "  </button>\n",
              "\n",
              "<style>\n",
              "  .colab-df-quickchart {\n",
              "      --bg-color: #E8F0FE;\n",
              "      --fill-color: #1967D2;\n",
              "      --hover-bg-color: #E2EBFA;\n",
              "      --hover-fill-color: #174EA6;\n",
              "      --disabled-fill-color: #AAA;\n",
              "      --disabled-bg-color: #DDD;\n",
              "  }\n",
              "\n",
              "  [theme=dark] .colab-df-quickchart {\n",
              "      --bg-color: #3B4455;\n",
              "      --fill-color: #D2E3FC;\n",
              "      --hover-bg-color: #434B5C;\n",
              "      --hover-fill-color: #FFFFFF;\n",
              "      --disabled-bg-color: #3B4455;\n",
              "      --disabled-fill-color: #666;\n",
              "  }\n",
              "\n",
              "  .colab-df-quickchart {\n",
              "    background-color: var(--bg-color);\n",
              "    border: none;\n",
              "    border-radius: 50%;\n",
              "    cursor: pointer;\n",
              "    display: none;\n",
              "    fill: var(--fill-color);\n",
              "    height: 32px;\n",
              "    padding: 0;\n",
              "    width: 32px;\n",
              "  }\n",
              "\n",
              "  .colab-df-quickchart:hover {\n",
              "    background-color: var(--hover-bg-color);\n",
              "    box-shadow: 0 1px 2px rgba(60, 64, 67, 0.3), 0 1px 3px 1px rgba(60, 64, 67, 0.15);\n",
              "    fill: var(--button-hover-fill-color);\n",
              "  }\n",
              "\n",
              "  .colab-df-quickchart-complete:disabled,\n",
              "  .colab-df-quickchart-complete:disabled:hover {\n",
              "    background-color: var(--disabled-bg-color);\n",
              "    fill: var(--disabled-fill-color);\n",
              "    box-shadow: none;\n",
              "  }\n",
              "\n",
              "  .colab-df-spinner {\n",
              "    border: 2px solid var(--fill-color);\n",
              "    border-color: transparent;\n",
              "    border-bottom-color: var(--fill-color);\n",
              "    animation:\n",
              "      spin 1s steps(1) infinite;\n",
              "  }\n",
              "\n",
              "  @keyframes spin {\n",
              "    0% {\n",
              "      border-color: transparent;\n",
              "      border-bottom-color: var(--fill-color);\n",
              "      border-left-color: var(--fill-color);\n",
              "    }\n",
              "    20% {\n",
              "      border-color: transparent;\n",
              "      border-left-color: var(--fill-color);\n",
              "      border-top-color: var(--fill-color);\n",
              "    }\n",
              "    30% {\n",
              "      border-color: transparent;\n",
              "      border-left-color: var(--fill-color);\n",
              "      border-top-color: var(--fill-color);\n",
              "      border-right-color: var(--fill-color);\n",
              "    }\n",
              "    40% {\n",
              "      border-color: transparent;\n",
              "      border-right-color: var(--fill-color);\n",
              "      border-top-color: var(--fill-color);\n",
              "    }\n",
              "    60% {\n",
              "      border-color: transparent;\n",
              "      border-right-color: var(--fill-color);\n",
              "    }\n",
              "    80% {\n",
              "      border-color: transparent;\n",
              "      border-right-color: var(--fill-color);\n",
              "      border-bottom-color: var(--fill-color);\n",
              "    }\n",
              "    90% {\n",
              "      border-color: transparent;\n",
              "      border-bottom-color: var(--fill-color);\n",
              "    }\n",
              "  }\n",
              "</style>\n",
              "\n",
              "  <script>\n",
              "    async function quickchart(key) {\n",
              "      const quickchartButtonEl =\n",
              "        document.querySelector('#' + key + ' button');\n",
              "      quickchartButtonEl.disabled = true;  // To prevent multiple clicks.\n",
              "      quickchartButtonEl.classList.add('colab-df-spinner');\n",
              "      try {\n",
              "        const charts = await google.colab.kernel.invokeFunction(\n",
              "            'suggestCharts', [key], {});\n",
              "      } catch (error) {\n",
              "        console.error('Error during call to suggestCharts:', error);\n",
              "      }\n",
              "      quickchartButtonEl.classList.remove('colab-df-spinner');\n",
              "      quickchartButtonEl.classList.add('colab-df-quickchart-complete');\n",
              "    }\n",
              "    (() => {\n",
              "      let quickchartButtonEl =\n",
              "        document.querySelector('#df-0eec06ea-2761-4446-8dbc-5c00ea4ade3e button');\n",
              "      quickchartButtonEl.style.display =\n",
              "        google.colab.kernel.accessAllowed ? 'block' : 'none';\n",
              "    })();\n",
              "  </script>\n",
              "</div>\n",
              "\n",
              "    </div>\n",
              "  </div>\n"
            ],
            "text/plain": [
              "       suburb           address  rooms type      price method seller_g  \\\n",
              "0  Abbotsford      85 Turner St      2    h  1480000.0      S   Biggin   \n",
              "1  Abbotsford   25 Bloomburg St      2    h  1035000.0      S   Biggin   \n",
              "2  Abbotsford      5 Charles St      3    h  1465000.0     SP   Biggin   \n",
              "3  Abbotsford  40 Federation La      3    h   850000.0     PI   Biggin   \n",
              "4  Abbotsford       55a Park St      4    h  1600000.0     VB   Nelson   \n",
              "\n",
              "        date  distance  postcode  bedroom_2  bathroom  car  land_size  \\\n",
              "0  3/12/2016       2.5    3067.0        2.0       1.0  1.0      202.0   \n",
              "1  4/02/2016       2.5    3067.0        2.0       1.0  0.0      156.0   \n",
              "2  4/03/2017       2.5    3067.0        3.0       2.0  0.0      134.0   \n",
              "3  4/03/2017       2.5    3067.0        3.0       2.0  1.0       94.0   \n",
              "4  4/06/2016       2.5    3067.0        3.0       1.0  2.0      120.0   \n",
              "\n",
              "  council_area  latitude  longitude            region_name  property_count  \n",
              "0        Yarra  -37.7996   144.9984  Northern Metropolitan          4019.0  \n",
              "1        Yarra  -37.8079   144.9934  Northern Metropolitan          4019.0  \n",
              "2        Yarra  -37.8093   144.9944  Northern Metropolitan          4019.0  \n",
              "3        Yarra  -37.7969   144.9969  Northern Metropolitan          4019.0  \n",
              "4        Yarra  -37.8072   144.9941  Northern Metropolitan          4019.0  "
            ]
          },
          "execution_count": 7,
          "metadata": {},
          "output_type": "execute_result"
        }
      ],
      "source": [
        "df.head()"
      ]
    },
    {
      "cell_type": "code",
      "execution_count": 8,
      "metadata": {
        "colab": {
          "base_uri": "https://localhost:8080/"
        },
        "id": "POHieZg724mW",
        "outputId": "3164c0be-1596-4351-a020-7c8225f397f3"
      },
      "outputs": [
        {
          "data": {
            "text/plain": [
              "6500000.0"
            ]
          },
          "execution_count": 8,
          "metadata": {},
          "output_type": "execute_result"
        }
      ],
      "source": [
        "df['price'].max()"
      ]
    },
    {
      "cell_type": "markdown",
      "metadata": {
        "id": "XIdEYXZG3Bpg"
      },
      "source": [
        "**Percentiles**\n",
        "\n",
        "El percentil P es un valor que indica que por lo menos P% de los valores en el conjunto tienen este valor o un valor menor; mientras que (100-P)% de los valores tienen este valor o un valor mayor. Por ejemplo, para obtener el percentil 80 primero ordenamos nuestro conjunto de manera ascendente y después elegimos un valor de manera que el 80% de los valores en nuestro conjunto sean iguales o menores a ese valor.\n",
        "\n",
        "En pandas, los percentiles están implementados como cuantiles, que es lo mismo que los percentiles pero en versión fracciones. Es decir, el percentil 80 es lo mismo que el cuantil 0.8."
      ]
    },
    {
      "cell_type": "code",
      "execution_count": 10,
      "metadata": {
        "colab": {
          "base_uri": "https://localhost:8080/"
        },
        "id": "-BZFCEOp3eek",
        "outputId": "8afa5e56-dbfb-44a0-fefe-aa1c0b60067b"
      },
      "outputs": [
        {
          "data": {
            "text/plain": [
              "909000.0"
            ]
          },
          "execution_count": 10,
          "metadata": {},
          "output_type": "execute_result"
        }
      ],
      "source": [
        "df['price'].median()"
      ]
    },
    {
      "cell_type": "code",
      "execution_count": 11,
      "metadata": {
        "colab": {
          "base_uri": "https://localhost:8080/"
        },
        "id": "plEdh0ac3I9T",
        "outputId": "53308586-aa6b-4a55-dcee-9760b69b7d46"
      },
      "outputs": [
        {
          "data": {
            "text/plain": [
              "646000.0"
            ]
          },
          "execution_count": 11,
          "metadata": {},
          "output_type": "execute_result"
        }
      ],
      "source": [
        "df['price'].quantile(0.25)"
      ]
    },
    {
      "cell_type": "code",
      "execution_count": 12,
      "metadata": {
        "colab": {
          "base_uri": "https://localhost:8080/"
        },
        "id": "j3b8fjIy3uKa",
        "outputId": "bc516236-a9b7-4f81-ba47-f5a3b4f9d9fa"
      },
      "outputs": [
        {
          "data": {
            "text/plain": [
              "909000.0"
            ]
          },
          "execution_count": 12,
          "metadata": {},
          "output_type": "execute_result"
        }
      ],
      "source": [
        "df['price'].quantile(0.50)"
      ]
    },
    {
      "cell_type": "code",
      "execution_count": 13,
      "metadata": {
        "colab": {
          "base_uri": "https://localhost:8080/"
        },
        "id": "cmjtoNHI3yjw",
        "outputId": "00c6dcd2-3aea-462f-d945-854d35b8dd3e"
      },
      "outputs": [
        {
          "data": {
            "text/plain": [
              "1350000.0"
            ]
          },
          "execution_count": 13,
          "metadata": {},
          "output_type": "execute_result"
        }
      ],
      "source": [
        "df['price'].quantile(0.75)"
      ]
    },
    {
      "cell_type": "code",
      "execution_count": 29,
      "metadata": {
        "colab": {
          "base_uri": "https://localhost:8080/"
        },
        "id": "_U0jRnrr4fFU",
        "outputId": "038465d3-490b-4579-b02b-06f65f1cdab6"
      },
      "outputs": [
        {
          "data": {
            "text/plain": [
              "1472300.0000000002"
            ]
          },
          "execution_count": 29,
          "metadata": {},
          "output_type": "execute_result"
        }
      ],
      "source": [
        "df['price'].quantile(0.8)"
      ]
    },
    {
      "cell_type": "markdown",
      "metadata": {
        "id": "Ip_sSfid4hIa"
      },
      "source": [
        "Realizando los estadisticos de roden en numpy"
      ]
    },
    {
      "cell_type": "code",
      "execution_count": 15,
      "metadata": {
        "id": "zmnrW8cQ4sG0"
      },
      "outputs": [],
      "source": [
        "import numpy as np"
      ]
    },
    {
      "cell_type": "code",
      "execution_count": 16,
      "metadata": {
        "colab": {
          "base_uri": "https://localhost:8080/"
        },
        "id": "xX416bbG4w8C",
        "outputId": "dd489d39-233f-4f94-de7d-e80ceb87b25f"
      },
      "outputs": [
        {
          "data": {
            "text/plain": [
              "0"
            ]
          },
          "execution_count": 16,
          "metadata": {},
          "output_type": "execute_result"
        }
      ],
      "source": [
        "df['price'].isna().sum()"
      ]
    },
    {
      "cell_type": "code",
      "execution_count": 20,
      "metadata": {
        "colab": {
          "base_uri": "https://localhost:8080/"
        },
        "id": "yhKTIrdt5Ifq",
        "outputId": "42d59513-5f03-4e10-e8bb-a1d5132604d3"
      },
      "outputs": [
        {
          "data": {
            "text/plain": [
              "646000.0"
            ]
          },
          "execution_count": 20,
          "metadata": {},
          "output_type": "execute_result"
        }
      ],
      "source": [
        "np.percentile(df['price'], 25)"
      ]
    },
    {
      "cell_type": "code",
      "execution_count": 21,
      "metadata": {
        "colab": {
          "base_uri": "https://localhost:8080/"
        },
        "id": "PIU_sgi76NtW",
        "outputId": "0cef8a55-9a3a-4e28-90e7-b16fa2417637"
      },
      "outputs": [
        {
          "data": {
            "text/plain": [
              "909000.0"
            ]
          },
          "execution_count": 21,
          "metadata": {},
          "output_type": "execute_result"
        }
      ],
      "source": [
        "np.percentile(df['price'], 50)"
      ]
    },
    {
      "cell_type": "code",
      "execution_count": 22,
      "metadata": {
        "colab": {
          "base_uri": "https://localhost:8080/"
        },
        "id": "gIVJDh3k6Pxj",
        "outputId": "4793c785-7934-47a5-a221-74fefe096f20"
      },
      "outputs": [
        {
          "data": {
            "text/plain": [
              "909000.0"
            ]
          },
          "execution_count": 22,
          "metadata": {},
          "output_type": "execute_result"
        }
      ],
      "source": [
        "np.median(df['price'])"
      ]
    },
    {
      "cell_type": "markdown",
      "metadata": {
        "id": "0EZwwBoX5Z0w"
      },
      "source": [
        "En este caso, el 80% de los valores en nuestro conjunto de datos tienen un valor menor o igual a 1 440 000.\n",
        "\n",
        "Como podrás ya haber imaginado, el valor mínimo equivale al percentil 0 y el valor máximo equivale al percentil 100, mientras que la mediana es exactamente igual que el percentil 50.\n",
        "\n",
        "Sacando los percentiles podemos darnos una idea más o menos precisa de cómo están distribuidos nuestros datos.\n",
        "\n",
        "Por ejemplo:"
      ]
    },
    {
      "cell_type": "code",
      "execution_count": 32,
      "metadata": {
        "id": "AySERQ-d5SMy"
      },
      "outputs": [],
      "source": [
        "def imprimir_quantiles(datos):\n",
        "  valor_minimo = datos.min()\n",
        "  percentil_10 = datos.quantile(0.1)\n",
        "  percentil_25 = datos.quantile(0.25)\n",
        "  percentil_50 = datos.median()\n",
        "  percentil_75 = datos.quantile(0.75)\n",
        "  percentil_90 = datos.quantile(0.95)\n",
        "  valor_maximo = datos.max()\n",
        "\n",
        "\n",
        "\n",
        "  return{\n",
        "      'valor Minimo': valor_minimo,\n",
        "      'percentil 10': percentil_10,\n",
        "      'percentil 25': percentil_25,\n",
        "      'Percentil 20': percentil_50,\n",
        "      'percentil 75': percentil_75,\n",
        "      'percentil 90': percentil_90,\n",
        "      'Valor Maximo': valor_maximo\n",
        "  }"
      ]
    },
    {
      "cell_type": "code",
      "execution_count": 33,
      "metadata": {
        "colab": {
          "base_uri": "https://localhost:8080/"
        },
        "id": "qSKpuuEx8C-9",
        "outputId": "7b742d7e-32b7-4ffe-e3cf-3eb5d21b7b71"
      },
      "outputs": [
        {
          "data": {
            "text/plain": [
              "{'valor Minimo': 85000.0,\n",
              " 'percentil 10': 470000.0,\n",
              " 'percentil 25': 646000.0,\n",
              " 'Percentil 20': 909000.0,\n",
              " 'percentil 75': 1350000.0,\n",
              " 'percentil 90': 2350000.0,\n",
              " 'Valor Maximo': 6500000.0}"
            ]
          },
          "execution_count": 33,
          "metadata": {},
          "output_type": "execute_result"
        }
      ],
      "source": [
        "imprimir_quantiles(df['price'])"
      ]
    },
    {
      "cell_type": "markdown",
      "metadata": {
        "id": "CjxTbhae79IO"
      },
      "source": [
        "Viendo estos números podemos inferir varias cosas:\n",
        "\n",
        "1. Casi todos nuestros datos están concentrados en valores menores a 2 000 000.\n",
        "1. Eso quiere decir que tenemos algunos valores atípicos demasiado grandes (si los comparamos con el resto de los valores)\n",
        "1. La mediana nos estaba dando un número más cercano al verdadero \"valor típico\" que el promedio.\n",
        "1. El promedio tenía un sesgo hacia arriba debido a los valores extremadamente grandes.\n",
        "1. El rango entre el valor máximo y mínimo no nos da una medida representativa de qué valores pueden tomar nuestros datos."
      ]
    },
    {
      "cell_type": "markdown",
      "metadata": {
        "id": "YgyxjgTK8xis"
      },
      "source": [
        "**Rango intercuartílico**\n",
        "\n",
        "Otra medida muy común es lo que llamamos el rango intercuartílico, que es la diferencia entre el percentil 75 y el percentil 25. Este número nos da una idea del rango que tienen los valores más cercanos al valor típico.\n",
        "\n",
        "En nuestro ejemplo, nuestro rango intercuartílico sería:"
      ]
    },
    {
      "cell_type": "code",
      "execution_count": 34,
      "metadata": {
        "colab": {
          "base_uri": "https://localhost:8080/"
        },
        "id": "7EWWRamK8yVa",
        "outputId": "a4ce4fda-7733-4ced-e482-ef994ce6d673"
      },
      "outputs": [
        {
          "data": {
            "text/plain": [
              "704000.0"
            ]
          },
          "execution_count": 34,
          "metadata": {},
          "output_type": "execute_result"
        }
      ],
      "source": [
        "df['price'].quantile(0.75) - df['price'].quantile(0.25)"
      ]
    },
    {
      "cell_type": "code",
      "execution_count": 35,
      "metadata": {
        "colab": {
          "base_uri": "https://localhost:8080/"
        },
        "id": "dKg_gGjC-KCs",
        "outputId": "5b9576a3-f5d6-4ea1-c966-829e2715abfc"
      },
      "outputs": [
        {
          "data": {
            "text/plain": [
              "6415000.0"
            ]
          },
          "execution_count": 35,
          "metadata": {},
          "output_type": "execute_result"
        }
      ],
      "source": [
        "#Rango\n",
        "df['price'].max() - df['price'].min()"
      ]
    }
  ],
  "metadata": {
    "colab": {
      "provenance": []
    },
    "kernelspec": {
      "display_name": "Python 3",
      "name": "python3"
    },
    "language_info": {
      "name": "python"
    }
  },
  "nbformat": 4,
  "nbformat_minor": 0
}
