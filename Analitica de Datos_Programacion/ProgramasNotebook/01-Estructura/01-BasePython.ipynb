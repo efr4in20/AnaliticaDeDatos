{
 "cells": [
  {
   "cell_type": "markdown",
   "metadata": {},
   "source": [
    "# Caracteres de escape y una nueva linea"
   ]
  },
  {
   "cell_type": "code",
   "execution_count": 1,
   "metadata": {},
   "outputs": [
    {
     "name": "stdout",
     "output_type": "stream",
     "text": [
      "La wixi wixi araña\n",
      "subio a su telaraña\n",
      "La wixi wixi araña subio a su telaraña\n"
     ]
    }
   ],
   "source": [
    "print('La wixi wixi araña\\nsubio a su telaraña')\n",
    "print(\"La wixi wixi araña subio a su telaraña\")"
   ]
  },
  {
   "cell_type": "code",
   "execution_count": null,
   "metadata": {},
   "outputs": [],
   "source": [
    "print('La witsi araña \\\\ la arañota')"
   ]
  },
  {
   "cell_type": "code",
   "execution_count": 1,
   "metadata": {},
   "outputs": [
    {
     "name": "stdout",
     "output_type": "stream",
     "text": [
      "La suma es:  58.900000000000006\n",
      "La suma45.6+13.3=58.900000000000006\n"
     ]
    }
   ],
   "source": [
    "x = 45.6 \n",
    "y = 13.3\n",
    "\n",
    "print(f'La suma es:  {x + y}')\n",
    "\n",
    "print ('La suma' + str (x) + '+' + str (y) + '=' + str (x+y))"
   ]
  },
  {
   "cell_type": "code",
   "execution_count": 2,
   "metadata": {},
   "outputs": [
    {
     "name": "stdout",
     "output_type": "stream",
     "text": [
      "La suma de 45.6 + 13.3 es: 58.900000000000006\n",
      "La suma de 45.6 + 13.3 es: 58.9\n"
     ]
    }
   ],
   "source": [
    "# Utilizando el string literal\n",
    "print(f'La suma de {x} + {y} es: {x+y}')\n",
    "print(f'La suma de {x} + {y} es: {round(x+y,2)}')"
   ]
  },
  {
   "cell_type": "markdown",
   "metadata": {},
   "source": [
    "Usando multiples argumentos "
   ]
  },
  {
   "cell_type": "code",
   "execution_count": 4,
   "metadata": {},
   "outputs": [
    {
     "name": "stdout",
     "output_type": "stream",
     "text": [
      "La arañame mordio el dedo\n",
      "La araña me mordio mis 20 dedos\n",
      "Ya tenemos hambre\n"
     ]
    }
   ],
   "source": [
    "print('La araña' + 'me mordio el dedo')\n",
    "x = 20\n",
    "print('La araña','me mordio','mis', x, 'dedos')\n",
    "\n",
    "print('Ya tenemos', 'hambre')"
   ]
  },
  {
   "cell_type": "markdown",
   "metadata": {},
   "source": [
    "# Argumentos de palabra clave\n",
    "\n",
    "Python ofrece otro mecanismo para el paso de argumentos, que puede ser útil cuando deseas convencer a la función print() para que cambie un poco su comportamiento.\n",
    "\n",
    "No vamos a explicarlo en profundidad ahora. Planeamos hacerlo cuando hablemos de funciones. Por ahora, simplemente queremos mostrarte cómo funciona. Siéntete libre de usarlo en tus propios programas.\n",
    "\n",
    "El mecanismo se llama argumentos de palabras clave. El nombre proviene del hecho de que el significado de estos argumentos se toma no de su ubicación (posición) sino de la palabra especial (palabra clave) utilizada para identificarlos.\n",
    "\n",
    "La función print() tiene dos argumentos de palabra clave que puedes usar para tus propósitos. El primero se llama end."
   ]
  },
  {
   "cell_type": "code",
   "execution_count": 5,
   "metadata": {},
   "outputs": [
    {
     "name": "stdout",
     "output_type": "stream",
     "text": [
      "Hola seño\n",
      "\n",
      "Hola Benito\n",
      "Hola como estas vaca grande\n",
      "Hola yo soy tu pitufo\n"
     ]
    }
   ],
   "source": [
    "print ('Hola seño')\n",
    "print()\n",
    "print('Hola Benito')\n",
    "\n",
    "\n",
    "print('Hola como estas vaca grande', end = '\\n')\n",
    "print('Hola yo soy tu pitufo')"
   ]
  },
  {
   "cell_type": "code",
   "execution_count": 6,
   "metadata": {},
   "outputs": [
    {
     "name": "stdout",
     "output_type": "stream",
     "text": [
      "Hola soy ty miche Con limon y sal\n"
     ]
    }
   ],
   "source": [
    "print('Hola soy tu miche', end=\" \")\n",
    "print('Con limon y sal')"
   ]
  },
  {
   "cell_type": "markdown",
   "metadata": {},
   "source": [
    "Para usarlo, es necesario conocer algunas reglas:\n",
    "\n",
    "- Un argumento de palabra clave consta de tres elementos: una palabra clave se identifica el argumento (end aquí); un signo de igual (=); y un valor asignado a ese argumento;\n",
    "- cualquier argumento de palabra clave debe colocarse después del último argumento posicional (esto es muy importante)\n",
    "\n",
    "En nuestro ejemplo, hemos utilizado el argumento de palabra clave end, y lo hemos configurado como cadena que contiene un espacio\n",
    "\n",
    "Como puedes ver, el argumento de palabra clave end determina los caracteres que la función print() envía a la salida una vez que llega al final de sus argumentos posicionales.\n",
    "\n",
    "El comportamiento predeterminado refleja la situación en la que el argumento de palabra clave end se usa implícitamente de la siguiente manera: end=\"\\n\"."
   ]
  },
  {
   "cell_type": "code",
   "execution_count": 8,
   "metadata": {},
   "outputs": [
    {
     "name": "stdout",
     "output_type": "stream",
     "text": [
      "Hola Mundo*estoy aqui\n"
     ]
    }
   ],
   "source": [
    "print('Hola Mundo', end='*')\n",
    "print('estoy aqui')"
   ]
  },
  {
   "cell_type": "code",
   "execution_count": 12,
   "metadata": {},
   "outputs": [
    {
     "name": "stdout",
     "output_type": "stream",
     "text": [
      "Hola-Como-estas-America-Campion\n"
     ]
    }
   ],
   "source": [
    "#Palabra clave sep\n",
    "\n",
    "print('Hola', 'Como', 'estas', 'America', 'Campion', sep='-')\n"
   ]
  },
  {
   "cell_type": "code",
   "execution_count": null,
   "metadata": {},
   "outputs": [],
   "source": [
    "print('Hola', 'Como', 'estas', 'America', 'Campion', sep='-', end='**')\n",
    "print('Soyla', 'Vaca', 'del corral', sep='/')\n",
    "print(\"Tengo harta hambre\")"
   ]
  },
  {
   "cell_type": "markdown",
   "metadata": {},
   "source": [
    "# Lab la funcion print() y sus argumentos"
   ]
  },
  {
   "cell_type": "markdown",
   "metadata": {},
   "source": [
    "## Escenario\n",
    "\n",
    "Modifica la primera línea de código en el editor, usando las palabras claves reservadas sep y end, para que se obtenga la salida esperada. Emplea dos funciones print() en el editor.\n",
    "\n",
    "No cambies nada en la segunda invocación del print()."
   ]
  },
  {
   "cell_type": "markdown",
   "metadata": {},
   "source": [
    "Salida esperada\n",
    "\n",
    "Programming***Essential***in...Python\n"
   ]
  },
  {
   "cell_type": "code",
   "execution_count": 14,
   "metadata": {},
   "outputs": [
    {
     "name": "stdout",
     "output_type": "stream",
     "text": [
      "Prgramming Essentials in\n",
      "Python\n"
     ]
    }
   ],
   "source": [
    "print(\"Prgramming\",\"Essentials\",\"in\")\n",
    "print(\"Python\")"
   ]
  }
 ],
 "metadata": {
  "kernelspec": {
   "display_name": "Python 3",
   "language": "python",
   "name": "python3"
  },
  "language_info": {
   "codemirror_mode": {
    "name": "ipython",
    "version": 3
   },
   "file_extension": ".py",
   "mimetype": "text/x-python",
   "name": "python",
   "nbconvert_exporter": "python",
   "pygments_lexer": "ipython3",
   "version": "3.12.3"
  }
 },
 "nbformat": 4,
 "nbformat_minor": 2
}
