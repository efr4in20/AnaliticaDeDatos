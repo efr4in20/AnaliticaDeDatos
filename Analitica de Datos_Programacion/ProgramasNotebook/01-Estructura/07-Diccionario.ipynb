{
 "cells": [
  {
   "cell_type": "markdown",
   "metadata": {},
   "source": [
    "# Diccionarios\n",
    "\n",
    "El diccionario es otro tipo de estructura de datos de Python. No es una secuencia (pero puede adaptarse fácilmente a un procesamiento secuencial) y además es mutable.\n",
    "\n",
    "Para explicar lo que es un diccionario en Python, es importante comprender de manera literal lo que es un diccionario."
   ]
  },
  {
   "cell_type": "markdown",
   "metadata": {},
   "source": [
    "## ¿Cómo crear un diccionario?\n",
    "\n",
    "Si deseas asignar algunos pares iniciales a un diccionario, utiliza la siguiente sintaxis:"
   ]
  },
  {
   "cell_type": "code",
   "execution_count": 2,
   "metadata": {},
   "outputs": [],
   "source": [
    "diccionario = {\n",
    "    \"gato\": \"Morris\", \n",
    "    \"Perro\": \"Solovino\",\n",
    "    \"Caballo\": \"Paty\"\n",
    "}\n",
    "\n",
    "telefonos = {\n",
    "    \"jefe\": 5532456323, \n",
    "    'Suzy': 53345566 \n",
    "}\n",
    "\n",
    "diccionario_vacio = {}"
   ]
  },
  {
   "cell_type": "code",
   "execution_count": 6,
   "metadata": {},
   "outputs": [
    {
     "name": "stdout",
     "output_type": "stream",
     "text": [
      "{'gato': 'Morris', 'Perro': 'Solovino', 'Caballo': 'Paty'}\n",
      "{'jefe': 5532456323, 'Suzy': 53345566}\n",
      "{}\n"
     ]
    }
   ],
   "source": [
    "print(diccionario)\n",
    "print(telefonos)\n",
    "print(diccionario_vacio)"
   ]
  },
  {
   "cell_type": "markdown",
   "metadata": {},
   "source": [
    "## ¿Como utilizar un diccionario?"
   ]
  },
  {
   "cell_type": "code",
   "execution_count": 4,
   "metadata": {},
   "outputs": [],
   "source": [
    "diccionario = {\n",
    "    \"gato\": \"Morris\", \n",
    "    \"Perro\": \"Solovino\",\n",
    "    \"Caballo\": \"Paty\"\n",
    "}\n",
    "\n",
    "telefonos = {\n",
    "    \"jefe\": 5532456323, \n",
    "    'Suzy': 53345566 \n",
    "}\n",
    "\n",
    "diccionario_vacio = {}"
   ]
  },
  {
   "cell_type": "code",
   "execution_count": 8,
   "metadata": {},
   "outputs": [
    {
     "name": "stdout",
     "output_type": "stream",
     "text": [
      "Morris\n",
      "53345566\n"
     ]
    }
   ],
   "source": [
    "print(diccionario[\"gato\"])\n",
    "print(telefonos['Suzy'])\n"
   ]
  },
  {
   "cell_type": "code",
   "execution_count": 5,
   "metadata": {},
   "outputs": [
    {
     "ename": "NameError",
     "evalue": "name 'telefono' is not defined",
     "output_type": "error",
     "traceback": [
      "\u001b[1;31m---------------------------------------------------------------------------\u001b[0m",
      "\u001b[1;31mNameError\u001b[0m                                 Traceback (most recent call last)",
      "Cell \u001b[1;32mIn[5], line 1\u001b[0m\n\u001b[1;32m----> 1\u001b[0m \u001b[38;5;28mprint\u001b[39m(\u001b[43mtelefono\u001b[49m[\u001b[38;5;124m'\u001b[39m\u001b[38;5;124msuzy\u001b[39m\u001b[38;5;124m'\u001b[39m])\n",
      "\u001b[1;31mNameError\u001b[0m: name 'telefono' is not defined"
     ]
    }
   ],
   "source": [
    "print(telefono['suzy'])"
   ]
  },
  {
   "cell_type": "code",
   "execution_count": 11,
   "metadata": {},
   "outputs": [
    {
     "name": "stdout",
     "output_type": "stream",
     "text": [
      "leon No esta en el diccionario\n",
      "gato No esta en el diccionario\n",
      "caballo->cheval\n"
     ]
    }
   ],
   "source": [
    "dictionary = {\"cat\": \"gato\", \"perro\": \"chien\", \"caballo\": \"cheval\"}\n",
    "words = {'gato','leon','caballo'}\n",
    "\n",
    "for word in words:\n",
    "    if word in dictionary:\n",
    "        print (word + \"->\"+ dictionary[word])\n",
    "    else:\n",
    "        print (word, \"No esta en el diccionario\")"
   ]
  },
  {
   "cell_type": "markdown",
   "metadata": {},
   "source": [
    "## Metodos y funciones de los diccionarios"
   ]
  },
  {
   "cell_type": "markdown",
   "metadata": {},
   "source": [
    "### El método keys()\n",
    "\n",
    "¿Pueden los diccionarios ser examinados utilizando el bucle for, como las listas o tuplas?\n",
    "\n",
    "No y si.\n",
    "\n",
    "No, porque un diccionario no es un tipo de dato secuencial - el bucle for no es útil aquí.\n",
    "\n",
    "Si, porque hay herramientas simples y muy efectivas que pueden adaptar cualquier diccionario a los requerimientos del bucle for (en otras palabras, se construye un enlace intermedio entre el diccionario y una entidad secuencial temporal).\n",
    "\n",
    "El primero de ellos es un método denominado keys(), el cual es parte de todo diccionario. El método retorna o regresa una lista de todas las claves dentro del diccionario. Al tener una lista de claves se puede acceder a todo el diccionario de una manera fácil y útil.\n",
    "\n",
    "A continuación se muestra un ejemplo:"
   ]
  },
  {
   "cell_type": "code",
   "execution_count": 14,
   "metadata": {},
   "outputs": [
    {
     "name": "stdout",
     "output_type": "stream",
     "text": [
      "cat -> gato\n",
      "perro -> chien\n",
      "caballo -> cheval\n",
      "Burro -> Filemon\n"
     ]
    }
   ],
   "source": [
    "dictionary = {\"cat\": \"gato\", \"perro\": \"chien\", \"caballo\": \"cheval\", \"Burro\": \"Filemon\"}\n",
    "\n",
    "for key in dictionary.keys():\n",
    "    print (key , \"->\",  dictionary[key])"
   ]
  },
  {
   "cell_type": "markdown",
   "metadata": {},
   "source": [
    "Otra manera de hacerlo es utilizar el método items(). Este método retorna una lista de tuplas (este es el primer ejemplo en el que las tuplas son mas que un ejemplo de si mismas) donde cada tupla es un par de cada clave con su valor.\n",
    "\n",
    "Así es como funciona:"
   ]
  },
  {
   "cell_type": "code",
   "execution_count": 16,
   "metadata": {},
   "outputs": [
    {
     "name": "stdout",
     "output_type": "stream",
     "text": [
      "cat -> gato\n",
      "perro -> chien\n",
      "caballo -> cheval\n",
      "Burro -> Filemon\n"
     ]
    }
   ],
   "source": [
    "dictionary = {\"cat\": \"gato\", \"perro\": \"chien\", \"caballo\": \"cheval\", \"Burro\": \"Filemon\"}\n",
    "\n",
    "for key, valor in dictionary.items():\n",
    "    print(key,\"->\", valor)"
   ]
  },
  {
   "cell_type": "markdown",
   "metadata": {},
   "source": [
    "### Modificar, agregar y eliminar valores\n",
    "\n",
    "El asignar un nuevo valor a una clave existente es sencillo - debido a que los diccionarios son completamente mutables, no existen obstáculos para modificarlos.\n",
    "\n",
    "Se va a reemplazar el valor \"chat\" por \"minou\", lo cual no es muy adecuado, pero funcionará con nuestro ejemplo.\n",
    "\n",
    "Observa:"
   ]
  },
  {
   "cell_type": "code",
   "execution_count": 18,
   "metadata": {},
   "outputs": [
    {
     "name": "stdout",
     "output_type": "stream",
     "text": [
      "{'cat': 'minou', 'perro': 'chien', 'caballo': 'cheval', 'Burro': 'Filemon'}\n"
     ]
    }
   ],
   "source": [
    "dicti = {\"cat\": \"gato\", \"perro\": \"chien\", \"caballo\": \"cheval\", \"Burro\": \"Filemon\"}\n",
    "## cambiar el valor de una clave en un diccionario\n",
    "dicti[\"cat\"]= \"minou\"\n",
    "print(dicti)"
   ]
  },
  {
   "cell_type": "markdown",
   "metadata": {},
   "source": [
    "### La función sorted()\n",
    "\n",
    "¿Deseas que la salida este ordenada? Solo hay que agregar al bucle for lo siguiente:"
   ]
  },
  {
   "cell_type": "code",
   "execution_count": null,
   "metadata": {},
   "outputs": [],
   "source": [
    "# Ordenar una lista de form ascendete\n",
    "\n",
    "lista = [4,5,1,23,6,3]\n",
    "lista_ordenada = sorted(lista)\n",
    "print(lista_ordenada)"
   ]
  },
  {
   "cell_type": "code",
   "execution_count": null,
   "metadata": {},
   "outputs": [],
   "source": [
    "# Ordenar una losta de forma descendente\n",
    "\n",
    "lista = [4,5,1,23,6,3]\n",
    "lista_ordenada = sorted(lista, reverse = Ture)\n",
    "print(lista_ordenada)"
   ]
  },
  {
   "cell_type": "code",
   "execution_count": 24,
   "metadata": {},
   "outputs": [
    {
     "name": "stdout",
     "output_type": "stream",
     "text": [
      "Diccionario Ordinario por claves {'Cat': 'gato', 'Dog': 'perro', 'Fish': 'pez', 'Horse': 'caballo'}\n"
     ]
    }
   ],
   "source": [
    "# Ordena por clave pero tanto el key como el value de forma ascendente\n",
    "dict_nuevo = {\n",
    "    \"Cat\": \"gato\",\n",
    "    \"Dog\": \"perro\",\n",
    "    \"Horse\": \"caballo\",\n",
    "    \"Fish\": \"pez\"\n",
    "}\n",
    "\n",
    "diccionario_ordenado_claves = dict(sorted(dict_nuevo.items(),reverse=False))\n",
    "\n",
    "print(\"Diccionario Ordinario por claves\", diccionario_ordenado_claves)"
   ]
  },
  {
   "cell_type": "code",
   "execution_count": 20,
   "metadata": {},
   "outputs": [
    {
     "name": "stdout",
     "output_type": "stream",
     "text": [
      "Diccionario Ordinario por claves {'Cat': 'gato', 'Dog': 'perro', 'Fish': 'pez', 'Horse': 'caballo'}\n"
     ]
    }
   ],
   "source": [
    "# Ordena por clave pero tanto el key como el value de forma desendente\n",
    "\n",
    "\n",
    "dict_nuevo = {\n",
    "    \"Cat\": \"gato\",\n",
    "    \"Dog\": \"perro\",\n",
    "    \"Horse\": \"caballo\",\n",
    "    \"Fish\": \"pez\"\n",
    "}\n",
    "\n",
    "diccionario_ordenado_claves = dict(sorted(dict_nuevo.items(),reverse=True))\n",
    "\n",
    "print(\"Diccionario Ordinario por claves\", diccionario_ordenado_claves)"
   ]
  },
  {
   "cell_type": "code",
   "execution_count": 25,
   "metadata": {},
   "outputs": [
    {
     "name": "stdout",
     "output_type": "stream",
     "text": [
      "Diccionario ordenado por clave ['Cat', 'Dog', 'Fish', 'Horse']\n"
     ]
    }
   ],
   "source": [
    "# Ordenar por clave, pero solo muestra las cleves y se ordena de forma ascedente\n",
    "\n",
    "claves_ordenadas = sorted(dict_nuevo.keys(), reverse = False)\n",
    "print(\"Diccionario ordenado por clave\", claves_ordenadas)"
   ]
  },
  {
   "cell_type": "code",
   "execution_count": 26,
   "metadata": {},
   "outputs": [
    {
     "name": "stdout",
     "output_type": "stream",
     "text": [
      "Diccionario ordenado por clave ['Horse', 'Fish', 'Dog', 'Cat']\n"
     ]
    }
   ],
   "source": [
    "# Ordenar por clave, pero solo muestra las cleves y se ordena de forma decedente\n",
    "\n",
    "claves_ordenadas = sorted(dict_nuevo.keys(), reverse = True)\n",
    "print(\"Diccionario ordenado por clave\", claves_ordenadas)"
   ]
  },
  {
   "cell_type": "markdown",
   "metadata": {},
   "source": [
    "### Agregando nuevas claves\n",
    "\n",
    "El agregar una nueva clave con su valor a un diccionario es tan simple como cambiar un valor. Solo se tiene que asignar un valor a una nueva clave que no haya existido antes.\n",
    "\n",
    "Nota: este es un comportamiento muy diferente comparado a las listas, las cuales no permiten asignar valores a índices no existentes.\n",
    "\n",
    "A continuación se agrega un par nuevo al diccionario - un poco extraño pero válido:"
   ]
  },
  {
   "cell_type": "code",
   "execution_count": 29,
   "metadata": {},
   "outputs": [
    {
     "name": "stdout",
     "output_type": "stream",
     "text": [
      "{'Cat': 'gato', 'Dog': 'perro', 'Horse': 'caballo', 'Fish': 'pez', 'pig': 'cochino'}\n"
     ]
    }
   ],
   "source": [
    "dict_ingles_espanol = {\n",
    "    \"Cat\": \"gato\",\n",
    "    \"Dog\": \"perro\",\n",
    "    \"Horse\": \"caballo\",\n",
    "    \"Fish\": \"pez\"\n",
    "}\n",
    "\n",
    "dict_ingles_espanol[\"pig\"]= \"cochino\"\n",
    "\n",
    "print(dict_ingles_espanol)"
   ]
  },
  {
   "cell_type": "markdown",
   "metadata": {},
   "source": [
    "<span style=\"background-color: orange; border-radius: 5px; padding: 2px 2px; color:black;\">Nota</span>\n",
    "\n",
    "También es posible insertar un elemento al diccionario utilizando el método update(), por ejemplo:"
   ]
  },
  {
   "cell_type": "code",
   "execution_count": 30,
   "metadata": {},
   "outputs": [
    {
     "name": "stdout",
     "output_type": "stream",
     "text": [
      "{'Cat': 'gato', 'Dog': 'perro', 'Horse': 'caballo', 'Fish': 'pez', 'pig': 'cochino', 'turkey': 'Totol'}\n"
     ]
    }
   ],
   "source": [
    "dict_ingles_espanol.update({'turkey':'Totol'})\n",
    "\n",
    "print (dict_ingles_espanol)"
   ]
  },
  {
   "cell_type": "markdown",
   "metadata": {},
   "source": [
    "### Eliminado una clave\n",
    "\n",
    "¿Puedes deducir como eliminar una clave de un diccionario?\n",
    "\n",
    "Nota: al eliminar la clave también se removerá el valor asociado. Los valores no pueden existir sin sus claves.\n",
    "\n",
    "Esto se logra con la instrucción del.\n",
    "\n",
    "A continuación un ejemplo:"
   ]
  },
  {
   "cell_type": "code",
   "execution_count": 32,
   "metadata": {},
   "outputs": [
    {
     "name": "stdout",
     "output_type": "stream",
     "text": [
      "{'Dog': 'perro', 'Horse': 'caballo', 'Fish': 'pez'}\n"
     ]
    }
   ],
   "source": [
    "dict_ingles_espanol = {\n",
    "    \"Cat\": \"gato\",\n",
    "    \"Dog\": \"perro\",\n",
    "    \"Horse\": \"caballo\",\n",
    "    \"Fish\": \"pez\"\n",
    "}\n",
    "\n",
    "del dict_ingles_espanol['Cat']\n",
    "\n",
    "print(dict_ingles_espanol)"
   ]
  },
  {
   "cell_type": "markdown",
   "metadata": {},
   "source": [
    "Para eliminar el ultimo elemento de la lista, se puede emplear el método popitem():"
   ]
  },
  {
   "cell_type": "code",
   "execution_count": 33,
   "metadata": {},
   "outputs": [
    {
     "name": "stdout",
     "output_type": "stream",
     "text": [
      "{'Dog': 'perro', 'Horse': 'caballo'}\n"
     ]
    }
   ],
   "source": [
    "dict_ingles_espanol.popitem()\n",
    "print (dict_ingles_espanol)"
   ]
  }
 ],
 "metadata": {
  "kernelspec": {
   "display_name": "Python 3",
   "language": "python",
   "name": "python3"
  },
  "language_info": {
   "codemirror_mode": {
    "name": "ipython",
    "version": 3
   },
   "file_extension": ".py",
   "mimetype": "text/x-python",
   "name": "python",
   "nbconvert_exporter": "python",
   "pygments_lexer": "ipython3",
   "version": "3.12.3"
  }
 },
 "nbformat": 4,
 "nbformat_minor": 2
}
