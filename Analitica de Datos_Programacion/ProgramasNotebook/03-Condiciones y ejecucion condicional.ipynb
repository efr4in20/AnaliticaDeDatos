{
 "cells": [
  {
   "cell_type": "markdown",
   "metadata": {},
   "source": [
    "# Condiciones y ejecucion Condicional"
   ]
  },
  {
   "cell_type": "markdown",
   "metadata": {},
   "source": [
    "Nota"
   ]
  },
  {
   "cell_type": "markdown",
   "metadata": {},
   "source": [
    "# Ejemplo 1"
   ]
  },
  {
   "cell_type": "code",
   "execution_count": 5,
   "metadata": {},
   "outputs": [
    {
     "name": "stdout",
     "output_type": "stream",
     "text": [
      "10\n",
      "El numero mayor es 10\n"
     ]
    }
   ],
   "source": [
    "# Se leen dos numeros\n",
    "numero1 = int (input(\"Ingresa el primer numero\"))\n",
    "numero2 =  int (input(\"Ingresa el segundo numero\"))\n",
    "\n",
    "# Elegir el numero mas grande\n",
    "\n",
    "if numero1 > numero2:\n",
    "    numero_mayor = numero1\n",
    "\n",
    "else:\n",
    "    numero_mayor = numero2\n",
    "    print(numero_mayor)\n",
    "\n",
    "print(f'El numero mayor es {numero_mayor}')"
   ]
  },
  {
   "cell_type": "code",
   "execution_count": 7,
   "metadata": {},
   "outputs": [
    {
     "name": "stdout",
     "output_type": "stream",
     "text": [
      "El numero mayor es 78\n"
     ]
    }
   ],
   "source": [
    "# Se leen dos numeros\n",
    "numero1 = int (input(\"Ingresa el primer numero\"))\n",
    "numero2 =  int (input(\"Ingresa el segundo numero\"))\n",
    "\n",
    "# Elegir el numero mas grande\n",
    "\n",
    "if numero1 > numero2:\n",
    "  numero_mayor = numero1\n",
    "  print(f'El numero mayor es {numero_mayor}')\n",
    "else:\n",
    "  numero_mayor = numero2\n",
    "  print(f'El numero mayor es {numero_mayor}')\n",
    " "
   ]
  },
  {
   "cell_type": "markdown",
   "metadata": {},
   "source": [
    "## Ejemplo 2"
   ]
  },
  {
   "cell_type": "code",
   "execution_count": 5,
   "metadata": {},
   "outputs": [
    {
     "name": "stdout",
     "output_type": "stream",
     "text": [
      "El numero mayor es 2\n"
     ]
    }
   ],
   "source": [
    "# Encontrar el numero mas grande de 3 numeros\n",
    "\n",
    "#Solicitar 3 numeros enteros\n",
    "\n",
    "n1 = int(input('Escribe el primer numero'))\n",
    "n2 = int(input('Escribe el segundi numero'))\n",
    "n3 = int(input('Escribe el tercero numero'))\n",
    "\n",
    "numero_mayor = n1 \n",
    "\n",
    "if n2 > numero_mayor: \n",
    "    numero_mayor = n2\n",
    "elif n3 > numero_mayor:\n",
    "    numero_mayor = n3\n",
    "\n",
    "print(f'El numero mayor es {numero_mayor}')"
   ]
  },
  {
   "cell_type": "code",
   "execution_count": null,
   "metadata": {},
   "outputs": [],
   "source": [
    "n1 = int(input('Escribe el primer numero'))\n",
    "n2 = int(input('Escribe el segundi numero'))\n",
    "n3 = int(input('Escribe el tercero numero'))\n",
    "\n",
    "if n1 > n2  and n1 > n3:\n",
    "    numero_mayor = n1\n",
    "elif n2 > n1 and n2 > n3:\n",
    "    numero_mayor = n2\n",
    "else:\n",
    "    numero_mayor = n3\n",
    "\n",
    "print(f'El numero mayor es {numero_mayor}')"
   ]
  },
  {
   "cell_type": "code",
   "execution_count": 7,
   "metadata": {},
   "outputs": [
    {
     "name": "stdout",
     "output_type": "stream",
     "text": [
      "El numero mayor es 9\n"
     ]
    }
   ],
   "source": [
    "n1 = int(input('Escribe el primer numero'))\n",
    "n2 = int(input('Escribe el segundi numero'))\n",
    "n3 = int(input('Escribe el tercero numero'))\n",
    "\n",
    "numero_mayor = n1 \n",
    "\n",
    "if n2 > numero_mayor:\n",
    "    numero_mayor = n2\n",
    "\n",
    "if n3 > numero_mayor:\n",
    "    numero_mayor = n3\n",
    "\n",
    "print (f'El numero mayor es {numero_mayor}')"
   ]
  },
  {
   "cell_type": "markdown",
   "metadata": {},
   "source": [
    "LAB   Operadores de comparación y ejecución condicional\n",
    "\n",
    "Espatifilo, más comúnmente conocida como la planta de Cuna de Moisés o flor de la paz, es una de las plantas para interiores más populares que filtra las toxinas dañinas del aire. Algunas de las toxinas que neutraliza incluyen benceno, formaldehído y amoníaco.\n",
    "\n",
    "Imagina que tu programa de computadora ama estas plantas. Cada vez que recibe una entrada en forma de la palabra Espatifilo, grite involuntariamente a la consola la siguiente cadena: \"¡Espatifilo es la mejor planta de todas!\"\n",
    "\n",
    "Escribe un programa que utilice el concepto de ejecución condicional, tome una cadena como entrada y que:\n",
    "\n",
    "imprima el enunciado \"Si - ¡El Espatifilo! es la mejor planta de todos los tiempos!\" en la pantalla si la cadena ingresada es \"ESPATIFILIO\" (mayúsculas)\n",
    "imprima \"No, ¡quiero un gran Espatifilo!\" si la cadena ingresada es \"espatifilo\" (minúsculas)\n",
    "imprima \"¡Espatifilo!, ¡No [entrada]!\" de lo contrario. Nota: [entrada] es la cadena que se toma como entrada.\n",
    "Prueba tu código con los datos que te proporcionamos. ¡Y hazte de un Espatifilo también!"
   ]
  },
  {
   "cell_type": "code",
   "execution_count": 10,
   "metadata": {},
   "outputs": [
    {
     "name": "stdout",
     "output_type": "stream",
     "text": [
      "¡No Rosa\n"
     ]
    }
   ],
   "source": [
    "palabra = input('Escribe')\n",
    "\n",
    "if palabra == 'ESPATIFILO':\n",
    "\n",
    "    print ('El Espatifilo es la mejor Planta de todos los tiempos')\n",
    "\n",
    "elif palabra == 'espatifilo':\n",
    "\n",
    "    print ('No, ¡quiero un gran Espatofilo!')\n",
    "\n",
    "else:\n",
    "    print(f'¡No {palabra}!')"
   ]
  },
  {
   "cell_type": "markdown",
   "metadata": {},
   "source": [
    "# Ejemplo 3"
   ]
  },
  {
   "cell_type": "markdown",
   "metadata": {},
   "source": [
    "LAB   Fundamentos de la sentencia if-else\n",
    "\n",
    "Érase una vez una tierra de leche y miel - habitada por gente feliz y próspera. La gente pagaba impuestos, por supuesto - su felicidad tenía límites. El impuesto más importante, denominado Impuesto Personal de Ingresos (IPI, para abreviar) tenía que pagarse una vez al año y se evaluó utilizando la siguiente regla:\n",
    "\n",
    "si el ingreso del ciudadano no era superior a 85,528 pesos, el impuesto era igual al 18% del ingreso menos 556 pesos y 2 centavos (esta fue la llamada exención fiscal).\n",
    "si el ingreso era superior a esta cantidad, el impuesto era igual a 14,839 pesos y 2 centavos, más el 32% del excedente sobre 85,528 pesos.\n",
    "Tu tarea es escribir una calculadora de impuestos.\n",
    "\n",
    "Debe aceptar un valor de punto flotante: el ingreso.\n",
    "A continuación, debe imprimir el impuesto calculado, redondeado a pesos totales. Hay una función llamada round() que hará el redondeo por ti - la encontrarás en el código de esqueleto del editor.\n",
    "Nota: este país feliz nunca devuelve dinero a sus ciudadanos. Si el impuesto calculado es menor que cero, solo significa que no hay impuesto (el impuesto es igual a cero). Ten esto en cuenta durante tus cálculos.\n",
    "\n",
    "Observa el código en el editor - solo lee un valor de entrada y genera un resultado, por lo que debes completarlo con algunos cálculos inteligentes."
   ]
  },
  {
   "cell_type": "code",
   "execution_count": 3,
   "metadata": {},
   "outputs": [
    {
     "name": "stdout",
     "output_type": "stream",
     "text": [
      "El impuesto es:  1064.0 pesos\n"
     ]
    }
   ],
   "source": [
    "ingreso=float(input(\"Ingrese el ingreso anual:\"))\n",
    "\n",
    "if ingreso <= 85528:\n",
    "    impuesto = ingreso * .18 - 556.02\n",
    "    \n",
    "\n",
    "else:\n",
    "    ingreso >85529\n",
    "    impuesto = 14839 + (ingreso - 85528) * .32\n",
    "\n",
    "    \n",
    "\n",
    "impuesto=round(impuesto, 0)\n",
    "print(\"El impuesto es: \", impuesto, \"pesos\")\n"
   ]
  },
  {
   "cell_type": "markdown",
   "metadata": {},
   "source": [
    "# Ejemplo 4 "
   ]
  },
  {
   "cell_type": "markdown",
   "metadata": {},
   "source": [
    "LAB   Fundamentos de la sentencia if-elif-else\n",
    "\n",
    "Como seguramente sabrás, debido a algunas razones astronómicas, el año puede ser bisiesto o común. Los primeros tienen una duración de 366 días, mientras que los últimos tienen una duración de 365 días.\n",
    "\n",
    "Desde la introducción del calendario Gregoriano (en 1582), se utiliza la siguiente regla para determinar el tipo de año:\n",
    "\n",
    "si el número del año no es divisible entre cuatro, es un año común.\n",
    "de lo contrario, si el número del año no es divisible entre 100, es un año bisiesto.\n",
    "de lo contrario, si el número del año no es divisible entre 400, es un año común.\n",
    "de lo contrario, es un año bisiesto.\n",
    "Observa el código en el editor - solo lee un número de año y debe completarse con las instrucciones que implementan la prueba que acabamos de describir.\n",
    "\n",
    "El código debe mostrar uno de los dos mensajes posibles, que son Año Bisiesto o Año Común, según el valor ingresado.\n",
    "\n",
    "Sería bueno verificar si el año ingresado cae en la era Gregoriana y emitir una advertencia de lo contrario: No dentro del período del calendario Gregoriano. Consejo: utiliza los operadores != y %."
   ]
  },
  {
   "cell_type": "code",
   "execution_count": 4,
   "metadata": {},
   "outputs": [
    {
     "name": "stdout",
     "output_type": "stream",
     "text": [
      "Es bisiesto\n"
     ]
    }
   ],
   "source": [
    "año = int (input ('Ingresa el Año'))\n",
    "if año % 4 != 0: \n",
    "\tprint(\"No es bisiesto\")\n",
    "elif año % 4 == 0 and año % 100 != 0: \n",
    "\tprint(\"Es bisiesto\")\n",
    "elif año % 4 == 0 and año % 100 == 0 and año % 400 != 0: \n",
    "\tprint(\"No es bisiesto\")\n",
    "elif año % 4 == 0 and año % 100 == 0 and año % 400 == 0: \n",
    "\tprint(\"Es bisiesto\")"
   ]
  }
 ],
 "metadata": {
  "kernelspec": {
   "display_name": "Python 3",
   "language": "python",
   "name": "python3"
  },
  "language_info": {
   "codemirror_mode": {
    "name": "ipython",
    "version": 3
   },
   "file_extension": ".py",
   "mimetype": "text/x-python",
   "name": "python",
   "nbconvert_exporter": "python",
   "pygments_lexer": "ipython3",
   "version": "3.12.3"
  }
 },
 "nbformat": 4,
 "nbformat_minor": 2
}
