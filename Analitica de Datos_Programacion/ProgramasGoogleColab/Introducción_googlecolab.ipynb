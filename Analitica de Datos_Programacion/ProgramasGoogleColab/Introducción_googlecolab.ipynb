{
  "nbformat": 4,
  "nbformat_minor": 0,
  "metadata": {
    "colab": {
      "provenance": []
    },
    "kernelspec": {
      "name": "python3",
      "display_name": "Python 3"
    },
    "language_info": {
      "name": "python"
    }
  },
  "cells": [
    {
      "cell_type": "code",
      "execution_count": 1,
      "metadata": {
        "colab": {
          "base_uri": "https://localhost:8080/"
        },
        "id": "qWLMF1xc0P8Q",
        "outputId": "479f0b29-31c9-42e7-809d-44302e1ab65d"
      },
      "outputs": [
        {
          "output_type": "stream",
          "name": "stdout",
          "text": [
            "Hello World \n"
          ]
        }
      ],
      "source": [
        "print('Hello World ')"
      ]
    },
    {
      "cell_type": "markdown",
      "source": [
        "Operaciones Aritmeticas"
      ],
      "metadata": {
        "id": "zGLnylIE0eZw"
      }
    },
    {
      "cell_type": "markdown",
      "source": [
        "Suma"
      ],
      "metadata": {
        "id": "kSy069P40hf_"
      }
    },
    {
      "cell_type": "code",
      "source": [
        "5 + 4 #Suma de literales"
      ],
      "metadata": {
        "colab": {
          "base_uri": "https://localhost:8080/"
        },
        "id": "HnAKle3r0iby",
        "outputId": "37a51923-2a68-4a73-f56b-203589a26872"
      },
      "execution_count": 2,
      "outputs": [
        {
          "output_type": "execute_result",
          "data": {
            "text/plain": [
              "9"
            ]
          },
          "metadata": {},
          "execution_count": 2
        }
      ]
    },
    {
      "cell_type": "markdown",
      "source": [
        "##Resta"
      ],
      "metadata": {
        "id": "j2dZB61f0rmZ"
      }
    },
    {
      "cell_type": "code",
      "source": [
        "10 - 2"
      ],
      "metadata": {
        "colab": {
          "base_uri": "https://localhost:8080/"
        },
        "id": "iGntEgnF0uYd",
        "outputId": "8aa5ea24-574e-41de-a775-2c0c59700cd6"
      },
      "execution_count": 3,
      "outputs": [
        {
          "output_type": "execute_result",
          "data": {
            "text/plain": [
              "8"
            ]
          },
          "metadata": {},
          "execution_count": 3
        }
      ]
    },
    {
      "cell_type": "markdown",
      "source": [
        "##Multiplicacion"
      ],
      "metadata": {
        "id": "sEX3EMm_0zcV"
      }
    },
    {
      "cell_type": "code",
      "source": [
        "5*4"
      ],
      "metadata": {
        "colab": {
          "base_uri": "https://localhost:8080/"
        },
        "id": "T8C9ptn_04Yh",
        "outputId": "398a4de0-53c6-440d-81a1-1748e5819ff4"
      },
      "execution_count": 5,
      "outputs": [
        {
          "output_type": "execute_result",
          "data": {
            "text/plain": [
              "20"
            ]
          },
          "metadata": {},
          "execution_count": 5
        }
      ]
    },
    {
      "cell_type": "markdown",
      "source": [
        "##Potencia"
      ],
      "metadata": {
        "id": "TWUWcxMN1BcU"
      }
    },
    {
      "cell_type": "code",
      "source": [
        "2 ** 3"
      ],
      "metadata": {
        "colab": {
          "base_uri": "https://localhost:8080/"
        },
        "id": "Fec1pVwv1GIP",
        "outputId": "429a2a12-7d55-42e7-bc41-f8653e39fa8b"
      },
      "execution_count": 6,
      "outputs": [
        {
          "output_type": "execute_result",
          "data": {
            "text/plain": [
              "8"
            ]
          },
          "metadata": {},
          "execution_count": 6
        }
      ]
    },
    {
      "cell_type": "markdown",
      "source": [
        "##Divicion"
      ],
      "metadata": {
        "id": "pydMdFDm1M5R"
      }
    },
    {
      "cell_type": "code",
      "source": [
        "10 / 2"
      ],
      "metadata": {
        "colab": {
          "base_uri": "https://localhost:8080/"
        },
        "id": "0tikYI3Y1QBs",
        "outputId": "ff16013b-2e04-4de7-88d2-1fba623926c5"
      },
      "execution_count": 7,
      "outputs": [
        {
          "output_type": "execute_result",
          "data": {
            "text/plain": [
              "5.0"
            ]
          },
          "metadata": {},
          "execution_count": 7
        }
      ]
    },
    {
      "cell_type": "code",
      "source": [
        "1 // 2"
      ],
      "metadata": {
        "colab": {
          "base_uri": "https://localhost:8080/"
        },
        "id": "m8qJE2Tw1kXX",
        "outputId": "8bf1241d-7410-4a22-925b-ffd687827697"
      },
      "execution_count": 8,
      "outputs": [
        {
          "output_type": "execute_result",
          "data": {
            "text/plain": [
              "0"
            ]
          },
          "metadata": {},
          "execution_count": 8
        }
      ]
    },
    {
      "cell_type": "code",
      "source": [
        "10 % 2"
      ],
      "metadata": {
        "colab": {
          "base_uri": "https://localhost:8080/"
        },
        "id": "ukAe-17o16s-",
        "outputId": "3a7b5413-8118-4d32-f3b5-dcca1f407d45"
      },
      "execution_count": 9,
      "outputs": [
        {
          "output_type": "execute_result",
          "data": {
            "text/plain": [
              "0"
            ]
          },
          "metadata": {},
          "execution_count": 9
        }
      ]
    },
    {
      "cell_type": "markdown",
      "source": [
        "# Tipo de Datos y Viriables"
      ],
      "metadata": {
        "id": "EB-Lycwd2Pff"
      }
    },
    {
      "cell_type": "code",
      "source": [
        "# Variable entera\n",
        "numero1 = 10\n",
        "type(numero1)"
      ],
      "metadata": {
        "colab": {
          "base_uri": "https://localhost:8080/"
        },
        "id": "css8lfjV2070",
        "outputId": "8869ed86-3787-4754-de18-9c033cd9b2bb"
      },
      "execution_count": 10,
      "outputs": [
        {
          "output_type": "execute_result",
          "data": {
            "text/plain": [
              "int"
            ]
          },
          "metadata": {},
          "execution_count": 10
        }
      ]
    },
    {
      "cell_type": "code",
      "source": [
        "numero2 = 20\n",
        "resultado = numero1 + numero2\n",
        "resultado"
      ],
      "metadata": {
        "colab": {
          "base_uri": "https://localhost:8080/"
        },
        "id": "Yn_DILBw3Gty",
        "outputId": "a7aea36a-b9ed-428a-e03d-51a0cbf6e5df"
      },
      "execution_count": 11,
      "outputs": [
        {
          "output_type": "execute_result",
          "data": {
            "text/plain": [
              "30"
            ]
          },
          "metadata": {},
          "execution_count": 11
        }
      ]
    },
    {
      "cell_type": "code",
      "source": [
        "# Flotantes\n",
        "numero1 = 45.6\n",
        "type(numero1)"
      ],
      "metadata": {
        "colab": {
          "base_uri": "https://localhost:8080/"
        },
        "id": "vWQ5Kqcm3iaW",
        "outputId": "43aa2ec9-dcd6-4ee0-a3e6-5d98968bdd4f"
      },
      "execution_count": 12,
      "outputs": [
        {
          "output_type": "execute_result",
          "data": {
            "text/plain": [
              "float"
            ]
          },
          "metadata": {},
          "execution_count": 12
        }
      ]
    },
    {
      "cell_type": "code",
      "source": [
        "print ('El resultado es: ', resultado)"
      ],
      "metadata": {
        "colab": {
          "base_uri": "https://localhost:8080/"
        },
        "id": "-GiVIZFe37nQ",
        "outputId": "6d10185f-adc6-41d1-8385-dbfbd945cb2d"
      },
      "execution_count": 13,
      "outputs": [
        {
          "output_type": "stream",
          "name": "stdout",
          "text": [
            "El resultado es:  30\n"
          ]
        }
      ]
    },
    {
      "cell_type": "code",
      "source": [
        "#str  concatenar enteros o decimales en  cadenas\n",
        "print ('El resultado es:' + str(resultado))"
      ],
      "metadata": {
        "colab": {
          "base_uri": "https://localhost:8080/"
        },
        "id": "koMfiLEl4cyQ",
        "outputId": "ff71a5e3-1ceb-4ce5-abcb-e5c08e54a163"
      },
      "execution_count": 14,
      "outputs": [
        {
          "output_type": "stream",
          "name": "stdout",
          "text": [
            "El resultado es:30\n"
          ]
        }
      ]
    },
    {
      "cell_type": "code",
      "source": [
        "print ('Hola','Como estas', resultado)"
      ],
      "metadata": {
        "colab": {
          "base_uri": "https://localhost:8080/"
        },
        "id": "9RcDQKtF492C",
        "outputId": "828296e7-7920-4387-91dc-8b5179ee1345"
      },
      "execution_count": 15,
      "outputs": [
        {
          "output_type": "stream",
          "name": "stdout",
          "text": [
            "Hola Como estas 30\n"
          ]
        }
      ]
    },
    {
      "cell_type": "code",
      "source": [
        "print (\"Hola Como estas 'TBA'\")"
      ],
      "metadata": {
        "colab": {
          "base_uri": "https://localhost:8080/"
        },
        "id": "1G0jd8ZJ5FTq",
        "outputId": "d7a14642-704d-4621-9b3d-dc04dbf2b5dd"
      },
      "execution_count": 18,
      "outputs": [
        {
          "output_type": "stream",
          "name": "stdout",
          "text": [
            "Hola Como estas 'TBA'\n"
          ]
        }
      ]
    },
    {
      "cell_type": "code",
      "source": [
        "print (\"Hola Como estas \\'TBA\\'\")"
      ],
      "metadata": {
        "colab": {
          "base_uri": "https://localhost:8080/"
        },
        "id": "Kq92nJOf6xPR",
        "outputId": "b6792fbd-a91e-4b43-c9cf-43573a369304"
      },
      "execution_count": 28,
      "outputs": [
        {
          "output_type": "stream",
          "name": "stdout",
          "text": [
            "Hola Como estas 'TBA'\n"
          ]
        }
      ]
    },
    {
      "cell_type": "code",
      "source": [
        "valor = int (input (\"Introduce el valor:\"))"
      ],
      "metadata": {
        "colab": {
          "base_uri": "https://localhost:8080/"
        },
        "id": "fLcUXhqN7HHd",
        "outputId": "35c8653b-bf59-41df-caee-d6c4756ef903"
      },
      "execution_count": 22,
      "outputs": [
        {
          "name": "stdout",
          "output_type": "stream",
          "text": [
            "Introduce el valor:2\n"
          ]
        }
      ]
    },
    {
      "cell_type": "code",
      "source": [
        "print (valor)"
      ],
      "metadata": {
        "colab": {
          "base_uri": "https://localhost:8080/"
        },
        "id": "3-Q9i4Og7V29",
        "outputId": "a815c80d-ed28-405b-fad8-b157357a8721"
      },
      "execution_count": 23,
      "outputs": [
        {
          "output_type": "stream",
          "name": "stdout",
          "text": [
            "2\n"
          ]
        }
      ]
    },
    {
      "cell_type": "code",
      "source": [
        "# Numeros booleanos\n",
        "\n",
        "valor = True\n",
        "valor"
      ],
      "metadata": {
        "colab": {
          "base_uri": "https://localhost:8080/"
        },
        "id": "_AaGfupz8A6N",
        "outputId": "44cca420-584d-4bbb-f944-49db019c6508"
      },
      "execution_count": 29,
      "outputs": [
        {
          "output_type": "execute_result",
          "data": {
            "text/plain": [
              "True"
            ]
          },
          "metadata": {},
          "execution_count": 29
        }
      ]
    },
    {
      "cell_type": "code",
      "source": [
        "type(valor)"
      ],
      "metadata": {
        "colab": {
          "base_uri": "https://localhost:8080/"
        },
        "id": "Wq5oDqsR8NNy",
        "outputId": "3599f90a-d6ed-41ac-de0a-ba15b3f6e8bc"
      },
      "execution_count": 30,
      "outputs": [
        {
          "output_type": "execute_result",
          "data": {
            "text/plain": [
              "bool"
            ]
          },
          "metadata": {},
          "execution_count": 30
        }
      ]
    },
    {
      "cell_type": "code",
      "source": [
        "Saludo = 'Hola'\n",
        "Saludo"
      ],
      "metadata": {
        "colab": {
          "base_uri": "https://localhost:8080/",
          "height": 35
        },
        "id": "ak2654fx8mpI",
        "outputId": "d235b082-0e90-4408-cc6d-31f6818fae03"
      },
      "execution_count": 31,
      "outputs": [
        {
          "output_type": "execute_result",
          "data": {
            "text/plain": [
              "'Hola'"
            ],
            "application/vnd.google.colaboratory.intrinsic+json": {
              "type": "string"
            }
          },
          "metadata": {},
          "execution_count": 31
        }
      ]
    },
    {
      "cell_type": "code",
      "source": [
        "print (Saludo, 'Como estas', sep= '-')"
      ],
      "metadata": {
        "colab": {
          "base_uri": "https://localhost:8080/"
        },
        "id": "fqoOzEZK8sI5",
        "outputId": "4d64c09e-9b38-40fb-bcc4-97b046632f2b"
      },
      "execution_count": 34,
      "outputs": [
        {
          "output_type": "stream",
          "name": "stdout",
          "text": [
            "Hola-Como estas\n"
          ]
        }
      ]
    },
    {
      "cell_type": "markdown",
      "source": [
        "##Prioridades de los Operadores\n"
      ],
      "metadata": {
        "id": "PMwnQ9MB9k4e"
      }
    },
    {
      "cell_type": "code",
      "source": [
        "for i in range(10):\n",
        "  print ('Mi prioridad es el estudio')"
      ],
      "metadata": {
        "colab": {
          "base_uri": "https://localhost:8080/"
        },
        "id": "TZuRRnwT9qxs",
        "outputId": "b45cc468-98e6-448c-efb4-cd5ba85030e8"
      },
      "execution_count": 35,
      "outputs": [
        {
          "output_type": "stream",
          "name": "stdout",
          "text": [
            "Mi prioridad es el estudio\n",
            "Mi prioridad es el estudio\n",
            "Mi prioridad es el estudio\n",
            "Mi prioridad es el estudio\n",
            "Mi prioridad es el estudio\n",
            "Mi prioridad es el estudio\n",
            "Mi prioridad es el estudio\n",
            "Mi prioridad es el estudio\n",
            "Mi prioridad es el estudio\n",
            "Mi prioridad es el estudio\n"
          ]
        }
      ]
    },
    {
      "cell_type": "code",
      "source": [
        "4 + 5 * 10"
      ],
      "metadata": {
        "colab": {
          "base_uri": "https://localhost:8080/"
        },
        "id": "_ePQUxqZ97SQ",
        "outputId": "0721cef5-f48a-4c14-b612-fc173d010fa0"
      },
      "execution_count": 36,
      "outputs": [
        {
          "output_type": "execute_result",
          "data": {
            "text/plain": [
              "54"
            ]
          },
          "metadata": {},
          "execution_count": 36
        }
      ]
    },
    {
      "cell_type": "code",
      "source": [
        "(4 + 5) * 10"
      ],
      "metadata": {
        "colab": {
          "base_uri": "https://localhost:8080/"
        },
        "id": "1ub8DgRV-J-G",
        "outputId": "0262d0e0-b8b8-43fa-feea-58e33f845787"
      },
      "execution_count": 37,
      "outputs": [
        {
          "output_type": "execute_result",
          "data": {
            "text/plain": [
              "90"
            ]
          },
          "metadata": {},
          "execution_count": 37
        }
      ]
    },
    {
      "cell_type": "code",
      "source": [
        "20 / 2 * 3"
      ],
      "metadata": {
        "colab": {
          "base_uri": "https://localhost:8080/"
        },
        "id": "BqdCmnI7-ZRS",
        "outputId": "d0c7dfc1-20c2-4d25-ad9c-022cd64e4c57"
      },
      "execution_count": 38,
      "outputs": [
        {
          "output_type": "execute_result",
          "data": {
            "text/plain": [
              "30.0"
            ]
          },
          "metadata": {},
          "execution_count": 38
        }
      ]
    },
    {
      "cell_type": "code",
      "source": [
        "1 / 2 * 3"
      ],
      "metadata": {
        "colab": {
          "base_uri": "https://localhost:8080/"
        },
        "id": "aVfxJ8Gl-l7c",
        "outputId": "dfdfd5ea-622d-4134-a990-f825cf9fa228"
      },
      "execution_count": 39,
      "outputs": [
        {
          "output_type": "execute_result",
          "data": {
            "text/plain": [
              "1.5"
            ]
          },
          "metadata": {},
          "execution_count": 39
        }
      ]
    },
    {
      "cell_type": "code",
      "source": [
        "1 // 2 * 3"
      ],
      "metadata": {
        "colab": {
          "base_uri": "https://localhost:8080/"
        },
        "id": "HjeMDKlN-qSa",
        "outputId": "3007ddcc-6575-4af3-bc72-779d79cde738"
      },
      "execution_count": 40,
      "outputs": [
        {
          "output_type": "execute_result",
          "data": {
            "text/plain": [
              "0"
            ]
          },
          "metadata": {},
          "execution_count": 40
        }
      ]
    },
    {
      "cell_type": "markdown",
      "source": [
        "#Operadores Relacionales"
      ],
      "metadata": {
        "id": "y4BjDv-D_gsh"
      }
    },
    {
      "cell_type": "code",
      "source": [
        "variable = 10.2\n",
        "variable2 = variable == 10.2\n",
        "variable2"
      ],
      "metadata": {
        "colab": {
          "base_uri": "https://localhost:8080/"
        },
        "id": "p9ZupkTB_kZ8",
        "outputId": "ef02b008-fee5-4d9e-851a-b31ce15accc9"
      },
      "execution_count": 42,
      "outputs": [
        {
          "output_type": "execute_result",
          "data": {
            "text/plain": [
              "True"
            ]
          },
          "metadata": {},
          "execution_count": 42
        }
      ]
    },
    {
      "cell_type": "code",
      "source": [
        "type (variable2)"
      ],
      "metadata": {
        "colab": {
          "base_uri": "https://localhost:8080/"
        },
        "id": "p4RGKdnbAEQs",
        "outputId": "cd976e46-790d-4e9d-eb60-177fcfa2549f"
      },
      "execution_count": 43,
      "outputs": [
        {
          "output_type": "execute_result",
          "data": {
            "text/plain": [
              "bool"
            ]
          },
          "metadata": {},
          "execution_count": 43
        }
      ]
    }
  ]
}